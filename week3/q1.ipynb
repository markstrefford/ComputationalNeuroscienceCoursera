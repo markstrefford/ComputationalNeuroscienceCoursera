{
 "cells": [
  {
   "cell_type": "markdown",
   "metadata": {},
   "source": [
    "##Question 1"
   ]
  },
  {
   "cell_type": "markdown",
   "metadata": {},
   "source": [
    "Suppose we have a stimulus defined by a single variable called s. s can take one of two values, which we will call s1 and s2. You could think of these as lights flashing in the eyes at one of two possible frequencies. Or perhaps listening to punk rock vs. listening to Dvorak.\n",
    "\n",
    "Let's call the firing rate response of a neuron to this stimulus r.\n",
    "\n",
    "Suppose that under stimulus s1 the response rate of the neuron can be roughly approximated with a Gaussian distribution with the following parameters:\n",
    "\n",
    "μ (mean): 5\n",
    "\n",
    "σ (standard deviation): 0.5\n",
    "\n",
    "And likewise for s2:\n",
    "\n",
    "μ: 7\n",
    "\n",
    "σ: 1\n",
    "\n",
    "\n",
    "Hint: There are several functions available to help you evaluate Gaussian distributions. In Octave and in Matlab's stats toolbox you can use the 'normpdf' function. If you know how to set the problem up, you will be able to try all the answers below to find the one that works best. If you decide to challenge yourself to solve this algebraically instead, you can use the univariate Gaussian PDF, given at the top of this Wikipedia page."
   ]
  },
  {
   "cell_type": "code",
   "execution_count": 170,
   "metadata": {
    "collapsed": false
   },
   "outputs": [],
   "source": [
    "%matplotlib inline\n",
    "\n",
    "from scipy.stats import norm\n",
    "import matplotlib.pyplot as plt\n",
    "import numpy as np\n",
    "import matplotlib.mlab as mlab"
   ]
  },
  {
   "cell_type": "markdown",
   "metadata": {},
   "source": [
    "### Punk Rock"
   ]
  },
  {
   "cell_type": "code",
   "execution_count": 171,
   "metadata": {
    "collapsed": true
   },
   "outputs": [],
   "source": [
    "rock_mu, rock_sigma = 5, 0.5\n",
    "rock = np.random.normal(rock_mu, rock_sigma, 1000)"
   ]
  },
  {
   "cell_type": "code",
   "execution_count": 172,
   "metadata": {
    "collapsed": false
   },
   "outputs": [
    {
     "data": {
      "image/png": "[encoded data removed]",
      "text/plain": [
       "<matplotlib.figure.Figure at 0x114b41790>"
      ]
     },
     "metadata": {},
     "output_type": "display_data"
    }
   ],
   "source": [
    "count, bins, ignored = plt.hist(rock, 30, normed=True)\n",
    "plt.plot(bins, \n",
    "         1/(rock_sigma * np.sqrt(2 * np.pi)) * np.exp( - (bins - rock_mu)**2 / (2 * rock_sigma**2) ), \n",
    "         linewidth=2, color='r')\n",
    "plt.show()"
   ]
  },
  {
   "cell_type": "markdown",
   "metadata": {},
   "source": [
    "### Dvorak"
   ]
  },
  {
   "cell_type": "code",
   "execution_count": 173,
   "metadata": {
    "collapsed": true
   },
   "outputs": [],
   "source": [
    "dvorak_mu, dvorak_sigma = 7, 1.\n",
    "dvorak = np.random.normal(dvorak_mu, dvorak_sigma, 1000)"
   ]
  },
  {
   "cell_type": "code",
   "execution_count": 174,
   "metadata": {
    "collapsed": false
   },
   "outputs": [
    {
     "data": {
      "image/png": "[encoded data removed]",
      "text/plain": [
       "<matplotlib.figure.Figure at 0x114a16150>"
      ]
     },
     "metadata": {},
     "output_type": "display_data"
    }
   ],
   "source": [
    "count, bins, ignored = plt.hist(dvorak, 30, normed=True)\n",
    "plt.plot(bins, \n",
    "         1/(dvorak_sigma * np.sqrt(2 * np.pi)) * np.exp( - (bins - dvorak_mu)**2 / (2 * dvorak_sigma**2) ), \n",
    "         linewidth=2, color='r')\n",
    "plt.show()"
   ]
  },
  {
   "cell_type": "markdown",
   "metadata": {},
   "source": [
    "Lets say that both stimuli are equally likely and we are given no other prior information.\n",
    "\n",
    "Now let's throw in another twist. Let's say that we receive a measurement of the neuron's response and want to guess which stimulus was presented, but that to us, it is twice as bad to mistakenly think it is s2 than to mistakenly think it is s1.\n",
    "\n",
    "Which of these firing rates would make the best decision threshold for us in determining the value of s given a neuron's firing rate?\n",
    "\n"
   ]
  },
  {
   "cell_type": "code",
   "execution_count": 175,
   "metadata": {
    "collapsed": true
   },
   "outputs": [],
   "source": [
    "def solve(m1,m2,std1,std2,s1,s2):\n",
    "  a = 1/(2*std1**2) - 1/(2*std2**2)\n",
    "  b = m2/(std2**2) - m1/(std1**2)\n",
    "  # c = m1**2 /(2*std1**2) - m2**2 / (2*std2**2) - np.log(std2/std1)\n",
    "  c = m1**2 /(2*std1**2) - m2**2 / (2*std2**2) - np.log((std2*s1)/(std1*s2))\n",
    "  return np.roots([a,b,c])"
   ]
  },
  {
   "cell_type": "code",
   "execution_count": 176,
   "metadata": {
    "collapsed": false
   },
   "outputs": [
    {
     "name": "stdout",
     "output_type": "stream",
     "text": [
      "[ 5.97710157  2.6895651 ]\n"
     ]
    }
   ],
   "source": [
    "rock_mu, rock_sigma = 5., 0.5\n",
    "dvorak_mu, dvorak_sigma = 7., 1.0\n",
    "\n",
    "rock_scale = 2\n",
    "dvorak_scale = 1\n",
    "\n",
    "result = solve(rock_mu,dvorak_mu,rock_sigma,dvorak_sigma,rock_scale, dvorak_scale)\n",
    "print result"
   ]
  },
  {
   "cell_type": "code",
   "execution_count": 178,
   "metadata": {
    "collapsed": false
   },
   "outputs": [
    {
     "name": "stdout",
     "output_type": "stream",
     "text": [
      "[ 5.97710157  2.6895651 ]\n"
     ]
    }
   ],
   "source": [
    "print result"
   ]
  },
  {
   "cell_type": "code",
   "execution_count": 179,
   "metadata": {
    "collapsed": false
   },
   "outputs": [
    {
     "data": {
      "text/plain": [
       "[]"
      ]
     },
     "execution_count": 179,
     "metadata": {},
     "output_type": "execute_result"
    },
    {
     "data": {
      "image/png": "[encoded data removed]",
      "text/plain": [
       "<matplotlib.figure.Figure at 0x1141ac150>"
      ]
     },
     "metadata": {},
     "output_type": "display_data"
    }
   ],
   "source": [
    "x = np.linspace(3,30,10000)\n",
    "plot1=plt.plot(x,mlab.normpdf(x,rock_mu,rock_sigma))\n",
    "plot2=plt.plot(x,mlab.normpdf(x,dvorak_mu,dvorak_sigma))\n",
    "#plot3=plt.plot(result,mlab.normpdf(result,rock_mu,rock_sigma),'o')\n",
    "plot3=plt.plot(result,mlab.normpdf(result,rock_mu,rock_sigma),'o')\n",
    "plt.plot()"
   ]
  },
  {
   "cell_type": "markdown",
   "metadata": {
    "collapsed": true
   },
   "source": [
    "#### Notes\n",
    "Intersection of Gaussian distributions from http://stackoverflow.com/questions/22579434/python-finding-the-intersection-point-of-two-gaussian-curves/22579904"
   ]
  },
  {
   "cell_type": "code",
   "execution_count": null,
   "metadata": {
    "collapsed": true
   },
   "outputs": [],
   "source": []
  }
 ],
 "metadata": {
  "kernelspec": {
   "display_name": "Python 2",
   "language": "python",
   "name": "python2"
  },
  "language_info": {
   "codemirror_mode": {
    "name": "ipython",
    "version": 2
   },
   "file_extension": ".py",
   "mimetype": "text/x-python",
   "name": "python",
   "nbconvert_exporter": "python",
   "pygments_lexer": "ipython2",
   "version": "2.7.11"
  }
 },
 "nbformat": 4,
 "nbformat_minor": 0
}
